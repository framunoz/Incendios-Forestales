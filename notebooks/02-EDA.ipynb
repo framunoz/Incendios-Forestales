{
 "cells": [
  {
   "cell_type": "markdown",
   "metadata": {},
   "source": [
    "# EDA\n",
    "##### Futuras mejoras\n",
    "* Cambiar la matriz de correlaciones al no ser parte de las variables continuas.\n",
    "No se puede aplicar la correlacion a las variables categoricas\n",
    "Tabla de contingencia. Matriz de confución. Test de chi cuadrado\n"
   ]
  },
  {
   "cell_type": "markdown",
   "metadata": {},
   "source": [
    "## Importación de librerías"
   ]
  },
  {
   "cell_type": "code",
   "execution_count": null,
   "metadata": {},
   "outputs": [],
   "source": [
    "from os import path\n",
    "import os\n",
    "import pandas as pd\n",
    "import matplotlib.pyplot as plt\n",
    "import seaborn as sns\n",
    "from sklearn import preprocessing\n",
    "import matplotlib as mpl"
   ]
  },
  {
   "cell_type": "markdown",
   "metadata": {},
   "source": [
    "## Constantes"
   ]
  },
  {
   "cell_type": "markdown",
   "metadata": {},
   "source": [
    "Rutas usuales que se ocuparán en el notebook"
   ]
  },
  {
   "cell_type": "code",
   "execution_count": null,
   "metadata": {
    "code_folding": []
   },
   "outputs": [],
   "source": [
    "# Salvar gráficos\n",
    "SAVE_GRAF = True\n",
    "\n",
    "# RUTAS\n",
    "MAIN_PATH = path.join(\"..\")\n",
    "\n",
    "IMG_PATH = path.join(MAIN_PATH, \"imagenes\")\n",
    "DATA_PATH = path.join(MAIN_PATH, \"data\")\n",
    "\n",
    "WF_FOLDER_PATH = path.join(DATA_PATH, \"wildfires_us\")\n",
    "WF_DATA_PATH = path.join(WF_FOLDER_PATH, \"WILDFIRES_USA.csv\")\n",
    "WF_DATA_COLUMNS_PATH = path.join(WF_FOLDER_PATH, \"WILDFIRES_USA_COLUMNS.csv\")\n",
    "\n",
    "# Tamaño de la imagen\n",
    "my_figsize = (10, 5)\n",
    "mpl.rcParams[\"figure.figsize\"] = list(my_figsize)"
   ]
  },
  {
   "cell_type": "markdown",
   "metadata": {},
   "source": [
    "## Funciones auxiliares"
   ]
  },
  {
   "cell_type": "markdown",
   "metadata": {},
   "source": [
    "Función que se ocupará para imprimir la información (número de filas y columnas) de un DataFrame."
   ]
  },
  {
   "cell_type": "code",
   "execution_count": null,
   "metadata": {
    "code_folding": [
     0
    ]
   },
   "outputs": [],
   "source": [
    "def print_cantidad(dataframe):\n",
    "    \"\"\"Imprime la cantidad de datos que tiene el Data Frame.\n",
    "    \"\"\"\n",
    "    msg_cantidad = \"El dataset tiene una cantidad de {} datos y {} variables.\"\n",
    "    print(msg_cantidad.format(dataframe.shape[0], dataframe.shape[1]))\n",
    "    return None"
   ]
  },
  {
   "cell_type": "markdown",
   "metadata": {},
   "source": [
    "Función que define el estilo de todos los gráficos"
   ]
  },
  {
   "cell_type": "code",
   "execution_count": null,
   "metadata": {
    "code_folding": [
     0
    ]
   },
   "outputs": [],
   "source": [
    "def estilo():\n",
    "    \"\"\"Define el estilo general de los gráficos.\n",
    "    \"\"\"\n",
    "    # Configuraciones\n",
    "    sns.set(\n",
    "        context=\"notebook\",\n",
    "        style=\"whitegrid\",\n",
    "        palette=\"pastel\",\n",
    "        font_scale=1.3\n",
    "    )"
   ]
  },
  {
   "cell_type": "markdown",
   "metadata": {},
   "source": [
    "## Carga de datos"
   ]
  },
  {
   "cell_type": "markdown",
   "metadata": {},
   "source": [
    "### Columnas a ocupar\n",
    "\n",
    "Se escojen las columnas a ocupar dependiendo de la importancia que tenga. Se omiten algunas columnas tales como las que son para el ID, como el nombre que tuvo el incendio, o la columna que indica de dónde se obtuvo el incendio; pues no deberían de afectar a la predicción."
   ]
  },
  {
   "cell_type": "code",
   "execution_count": null,
   "metadata": {
    "code_folding": []
   },
   "outputs": [],
   "source": [
    "# Todas las columnas\n",
    "columnas = str(pd.read_csv(WF_DATA_COLUMNS_PATH).columns[0]).split(\",\")\n",
    "\n",
    "# Columnas que se ocuparán en el análisis\n",
    "columnas_ocupadas = columnas.copy()\n",
    "\n",
    "# Columnas que no se ocuparán\n",
    "columnas_sin_ocupar = [x for x in columnas if x not in columnas_ocupadas]\n",
    "\n",
    "# Columnas categoricas y numéricas\n",
    "columnas_cat = [\n",
    "    \"FIRE_YEAR\", \n",
    "    'STAT_CAUSE_DESCR', \n",
    "    'FIRE_SIZE_CLASS',\n",
    "    'STATE',\n",
    "    'DISC_MONTH',\n",
    "    'DISC_DOW',\n",
    "    'CONT_MONTH',\n",
    "    'CONT_DOW',\n",
    "]\n",
    "\n",
    "columnas_num = [x for x in columnas_ocupadas if x not in columnas_cat]"
   ]
  },
  {
   "cell_type": "code",
   "execution_count": null,
   "metadata": {},
   "outputs": [],
   "source": [
    "columnas_num"
   ]
  },
  {
   "cell_type": "markdown",
   "metadata": {},
   "source": [
    "### Carga de Datos"
   ]
  },
  {
   "cell_type": "code",
   "execution_count": null,
   "metadata": {},
   "outputs": [],
   "source": [
    "df = pd.read_csv(WF_DATA_PATH)\n",
    "\n",
    "# Convertimos los datos que sean fechas en ese tipo de dato\n",
    "df[\"DISC_DATE_TIME\"] = pd.to_datetime(df[\"DISC_DATE_TIME\"])\n",
    "df[\"CONT_DATE_TIME\"] = pd.to_datetime(df[\"CONT_DATE_TIME\"])\n",
    "# df[\"DT_FIRE\"] = pd.to_timedelta(df[\"DT_FIRE\"])\n",
    "df[\"FIRE_YEAR\"] = df[\"FIRE_YEAR\"].map(str)\n",
    "\n",
    "print_cantidad(df)\n",
    "\n",
    "df.head()"
   ]
  },
  {
   "cell_type": "code",
   "execution_count": null,
   "metadata": {},
   "outputs": [],
   "source": [
    "causas = df[\"STAT_CAUSE_DESCR\"].unique().tolist()\n",
    "causas"
   ]
  },
  {
   "cell_type": "code",
   "execution_count": null,
   "metadata": {},
   "outputs": [],
   "source": [
    "print(f\"El número de causas son {len(causas)}.\")"
   ]
  },
  {
   "cell_type": "markdown",
   "metadata": {},
   "source": [
    "## Análisis de datos"
   ]
  },
  {
   "cell_type": "markdown",
   "metadata": {},
   "source": [
    "### Grafico de causa vs número de incendios"
   ]
  },
  {
   "cell_type": "code",
   "execution_count": null,
   "metadata": {
    "code_folding": []
   },
   "outputs": [],
   "source": [
    "# Función que servirá para graficar con el dataframe\n",
    "def plot_barh(df, columna, save=SAVE_GRAF, n_datos=None, title=None, sort=True):\n",
    "    \"\"\"Plotea un gráfico de barras horizontales.\n",
    "    Se especifica el dataframe y la columna con que se graficará\n",
    "    \"\"\"\n",
    "    estilo()\n",
    "\n",
    "    titulo = (\"Número de incendios\"\n",
    "              + f\" para la columna {columna}.\") if title is None else title\n",
    "\n",
    "    if n_datos is None:\n",
    "        ax = df[columna].value_counts(sort=sort).plot(\n",
    "            kind=\"barh\",\n",
    "            figsize=my_figsize,\n",
    "        )\n",
    "    else:\n",
    "        ax = df[columna].value_counts(sort=sort).head(n=n_datos).plot(\n",
    "            kind=\"barh\",\n",
    "            figsize=my_figsize,\n",
    "        )\n",
    "\n",
    "    ax.set_xlabel(\"Número de incendios\")\n",
    "    ax.set_ylabel(columna)\n",
    "    ax.set_title(titulo)\n",
    "\n",
    "    if save:\n",
    "        plt.savefig(os.path.join(IMG_PATH, f\"barh_{columna}.pdf\"),\n",
    "                    bbox_inches='tight')"
   ]
  },
  {
   "cell_type": "code",
   "execution_count": null,
   "metadata": {},
   "outputs": [],
   "source": [
    "plot_barh(df, \"STAT_CAUSE_DESCR\")"
   ]
  },
  {
   "cell_type": "markdown",
   "metadata": {},
   "source": [
    "Observamos que las principales causas de incendio son: `Lightning`, `Debris Burning`, `Miscellaneous` y `Arson`.\n",
    "\n",
    "Estos, traducidos son: Relámpago, Quema de escombros, Misceláneo e Incendio provocado, respectivamente.\n",
    "\n",
    "Dado que estas son las variables que queremos predecir, se tendrá que balancear el dataset para que no ocurra _overfitting_.\n",
    "\n"
   ]
  },
  {
   "cell_type": "markdown",
   "metadata": {},
   "source": [
    "Dividiremos las causas en tres subgrupos dependiendo del número de veces que ocurre:\n",
    "* En un grupo con número de causas baja.\n",
    "* En un grupo con número de causas media.\n",
    "* En un grupo con número de causas alta."
   ]
  },
  {
   "cell_type": "code",
   "execution_count": null,
   "metadata": {},
   "outputs": [],
   "source": [
    "causas_l = ['Structure', 'Powerline', 'Railroad', 'Fireworks']\n",
    "causas_m = ['Smoking', 'Children',\n",
    "            'Missing/Undefined', 'Equipment Use', 'Campfire']\n",
    "causas_h = ['Arson', 'Miscellaneous', 'Debris Burning', 'Lightning']"
   ]
  },
  {
   "cell_type": "markdown",
   "metadata": {},
   "source": [
    "### Creación de nuevas categorías"
   ]
  },
  {
   "cell_type": "markdown",
   "metadata": {},
   "source": [
    "Dado que no se quiere tener _overfitting_, se reparametrizará el dataframe y se asignarán nuevas categorías."
   ]
  },
  {
   "cell_type": "code",
   "execution_count": null,
   "metadata": {},
   "outputs": [],
   "source": [
    "def new_category(cause):\n",
    "    \"\"\"Re-categoriza las causas que se tenían originalmente.\n",
    "    \"\"\"\n",
    "    d_causes = {\n",
    "        \"Other\": ['Miscellaneous',\n",
    "                  'Missing/Undefined'],\n",
    "        \"Human\": ['Children',\n",
    "                  'Smoking',\n",
    "                  'Equipment Use',\n",
    "                  'Debris Burning',\n",
    "                  'Campfire',\n",
    "                  'Campfire',\n",
    "                  'Railroad',\n",
    "                  'Powerline',\n",
    "                  'Fireworks',\n",
    "                  'Structure'],\n",
    "        \"Natural\": ['Lightning'],\n",
    "        \"Malicious\": ['Arson']\n",
    "    }\n",
    "\n",
    "    for new_cause in d_causes:\n",
    "        if cause in d_causes[new_causes]:\n",
    "            return new_cause\n",
    "    return None"
   ]
  },
  {
   "cell_type": "code",
   "execution_count": null,
   "metadata": {},
   "outputs": [],
   "source": [
    "df_ = df.copy()\n",
    "df_[\"STAT_CAUSE_DESCR_\"] = df_.STAT_CAUSE_DESCR.map(new_category)\n",
    "plot_barh(df_, \"STAT_CAUSE_DESCR_\")"
   ]
  },
  {
   "cell_type": "markdown",
   "metadata": {},
   "source": [
    "De aquí observamos que el dataset se encuentra mejor equilibrado."
   ]
  },
  {
   "cell_type": "markdown",
   "metadata": {},
   "source": [
    "### Distribución con respecto al año"
   ]
  },
  {
   "cell_type": "code",
   "execution_count": null,
   "metadata": {},
   "outputs": [],
   "source": [
    "df[\"FIRE_YEAR\"].map(int).value_counts(sort=False).plot(\n",
    "    kind=\"bar\",\n",
    "    figsize=my_figsize\n",
    ")\n",
    "\n",
    "plt.title(\"Número de incendios vs. año de ocurrencia\")\n",
    "plt.ylabel(\"Número de incendios\")\n",
    "plt.xlabel(\"Años\")\n",
    "plt.xticks(rotation=45)\n",
    "\n",
    "if SAVE_GRAF:\n",
    "    plt.savefig(os.path.join(IMG_PATH, f\"YEAR_OCURRENCIA.pdf\"),\n",
    "                bbox_inches='tight')\n",
    "plt.show()"
   ]
  },
  {
   "cell_type": "markdown",
   "metadata": {},
   "source": [
    "### Grafico del tamaño de incendio vs el número de incendios"
   ]
  },
  {
   "cell_type": "code",
   "execution_count": null,
   "metadata": {},
   "outputs": [],
   "source": [
    "plot_barh(df, \"FIRE_SIZE_CLASS\")"
   ]
  },
  {
   "cell_type": "markdown",
   "metadata": {},
   "source": [
    "Se observa que las principales clases de tamaños son: `B`, `A` y `C`.\n",
    "    \n",
    "Esto significa que la mayoría de incendios están entre los rangos 0.26-9.9, 0-0.25 y 10.0-99.9 acres respectivamente.\n",
    "\n",
    "Un acre son 4046.86m2, si lo traducimos:\n",
    "* `B`:1,052.18-40,063.91m2\n",
    "* `A`:0.0-1,011.71m2\n",
    "* `C`:40,468.60-404,281.31m2\n"
   ]
  },
  {
   "cell_type": "markdown",
   "metadata": {},
   "source": [
    "### Gráfico del estado vs. el número de incendios"
   ]
  },
  {
   "cell_type": "code",
   "execution_count": null,
   "metadata": {},
   "outputs": [],
   "source": [
    "plot_barh(df, \"STATE\", n_datos=15)"
   ]
  },
  {
   "cell_type": "markdown",
   "metadata": {},
   "source": [
    "Observamos que la mayoría de incendios se encuentran en Georgia, New York, California y Massachusetts."
   ]
  },
  {
   "cell_type": "markdown",
   "metadata": {},
   "source": [
    "### Gráfico de la distribución de incendios en el mapa"
   ]
  },
  {
   "cell_type": "code",
   "execution_count": null,
   "metadata": {},
   "outputs": [],
   "source": [
    "def graf_map(df, n_sample=2500):\n",
    "    \"\"\"Plotea un mapa de USA con sus incendios.\n",
    "    \"\"\"\n",
    "    import folium\n",
    "    import random\n",
    "\n",
    "    # Inspiración: \n",
    "    # https://python-visualization.github.io/folium/quickstart.html#Choropleth-maps\n",
    "\n",
    "    state_geo = \"https://raw.githubusercontent.com/python-visualization/folium/master/examples/data/search_states.json\"\n",
    "\n",
    "    state_uneployment = \"https://raw.githubusercontent.com/python-visualization/folium/master/examples/data/US_Unemployment_Oct2012.csv\"\n",
    "\n",
    "    state_data = pd.read_csv(state_uneployment)\n",
    "\n",
    "    m = folium.Map(location=[48, -102], zoom_start=3, width=800, height=500)\n",
    "\n",
    "    lat_long = list(zip(df[\"LATITUDE\"], df[\"LONGITUDE\"]))\n",
    "\n",
    "    random.seed(1314)\n",
    "    for lat, long in random.sample(lat_long, 2500):\n",
    "        folium.CircleMarker(\n",
    "            [lat, long],\n",
    "            color=\"red\",\n",
    "            fill=True,\n",
    "            fill_opacity=0.2,\n",
    "            radius=1,\n",
    "        ).add_to(m)\n",
    "\n",
    "    return m"
   ]
  },
  {
   "cell_type": "code",
   "execution_count": null,
   "metadata": {},
   "outputs": [],
   "source": [
    "graf_map(df, n_sample=4000)"
   ]
  },
  {
   "cell_type": "markdown",
   "metadata": {},
   "source": [
    "### Gráfico del mes vs número de incendios"
   ]
  },
  {
   "cell_type": "code",
   "execution_count": null,
   "metadata": {},
   "outputs": [],
   "source": [
    "plot_barh(df, \"DISC_MONTH\", sort=True)"
   ]
  },
  {
   "cell_type": "markdown",
   "metadata": {},
   "source": [
    "Observamos que la mayoría de incendios ocurren en los meses de julio, abril, marzo y agosto.\n",
    "\n",
    "Esto se puede deber a que en esos meses ocurren ciertas festividades en USA, aunque se necesita de mayor investigación para afirmarlo."
   ]
  },
  {
   "cell_type": "markdown",
   "metadata": {},
   "source": [
    "### Analizar la causa con respecto a algún día de la semana"
   ]
  },
  {
   "cell_type": "code",
   "execution_count": null,
   "metadata": {
    "code_folding": []
   },
   "outputs": [],
   "source": [
    "def plot_barh_causa(causa):\n",
    "    plot_barh(df[df[\"STAT_CAUSE_DESCR\"]==causa],\n",
    "              \"DISC_DOW\",\n",
    "              title=(f\"Número de incendios de causa '{causa}',\"\n",
    "                     \" en días de semana.\")\n",
    "             )"
   ]
  },
  {
   "cell_type": "code",
   "execution_count": null,
   "metadata": {},
   "outputs": [],
   "source": [
    "df.head()"
   ]
  },
  {
   "cell_type": "code",
   "execution_count": null,
   "metadata": {},
   "outputs": [],
   "source": [
    "df[\"DISC_DOW\"].unique().tolist()"
   ]
  },
  {
   "cell_type": "code",
   "execution_count": null,
   "metadata": {},
   "outputs": [],
   "source": [
    "a = tuple([x for x in range(3)])\n",
    "a"
   ]
  },
  {
   "cell_type": "code",
   "execution_count": null,
   "metadata": {},
   "outputs": [],
   "source": [
    "import numpy as np\n",
    "import matplotlib.pyplot as plt\n",
    "\n",
    "\n",
    "N = 5\n",
    "menMeans = (20, 35, 30, 35, 27)\n",
    "womenMeans = (25, 32, 34, 20, 25)\n",
    "menStd = (2, 3, 4, 1, 2)\n",
    "womenStd = (3, 5, 2, 3, 3)\n",
    "ind = np.arange(N)    # the x locations for the groups\n",
    "width = 0.35       # the width of the bars: can also be len(x) sequence\n",
    "\n",
    "p1 = plt.bar(ind, menMeans, width,)\n",
    "p2 = plt.bar(ind, womenMeans, width,\n",
    "             bottom=menMeans,)\n",
    "\n",
    "plt.ylabel('Scores')\n",
    "plt.title('Scores by group and gender')\n",
    "plt.xticks(ind, ('G1', 'G2', 'G3', 'G4', 'G5'))\n",
    "plt.yticks(np.arange(0, 81, 10))\n",
    "plt.legend((p1[0], p2[0]), ('Men', 'Women'))\n",
    "\n",
    "plt.show()"
   ]
  },
  {
   "cell_type": "code",
   "execution_count": null,
   "metadata": {},
   "outputs": [],
   "source": [
    "def plot_stacked(df, col_label_x, causas_=None,\n",
    "                 title=None, xlabel=None, ylabel=None\n",
    "                 ):\n",
    "    # parametros\n",
    "    causas_ = causas.copy() if not causas_ else causas_\n",
    "\n",
    "    # Obtenemos las etiquetas de una columna en particular\n",
    "    labels = df[col_label_x].unique().tolist()\n",
    "\n",
    "    # Diccionario indexado por label, \n",
    "    # con las filas que coincidan esa descripción\n",
    "    d_x = {x: df[df[col_label_x] == x] for x in labels}\n",
    "\n",
    "    # Cuenta del número de causas\n",
    "    n_causa = {\n",
    "        c: tuple([\n",
    "            len(d_x[x][d_x[x].STAT_CAUSE_DESCR == c]) for x in labels\n",
    "        ]) for c in causas_\n",
    "    }\n",
    "    \n",
    "    bottoms = list()\n",
    "    bottoms.append(tuple([0] * len(labels)))\n",
    "    for i in range(len(causas_)):\n",
    "        bottoms.append(tuple([\n",
    "            i + j for i, j in zip(tuple(bottoms[i]), n_causa[causas_[i]])\n",
    "        ]))\n",
    "\n",
    "    # grafico\n",
    "\n",
    "    stack_list = [\n",
    "        plt.bar(labels, \n",
    "                n_causa[c], \n",
    "                bottom=b\n",
    "               )[0] for c, b in zip(causas_, bottoms)\n",
    "    ]\n",
    "\n",
    "    title = (f\"Número de incendios para la columna \\n{col_label_x}\"\n",
    "             \" y por causa\") if title is None else title\n",
    "    xlabel = (f\"{col_label_x}\") if xlabel is None else xlabel\n",
    "    ylabel = (\"Número de incendios\") if ylabel is None else ylabel\n",
    "\n",
    "    plt.ylabel(ylabel)\n",
    "    plt.xlabel(xlabel)\n",
    "    plt.title(title)\n",
    "#     plt.legend(loc='center left', bbox_to_anchor=(1.1, 0.5))\n",
    "    plt.legend(stack_list, causas_, loc='center left', bbox_to_anchor=(1.0, 0.5))\n",
    "\n",
    "    plt.xticks(rotation=60)\n",
    "#     plt.figure(figsize=my_figsize)\n",
    "#     fig.set_size_inches(*my_figsize)\n",
    "\n",
    "    plt.show()\n",
    "\n",
    "    return None"
   ]
  },
  {
   "cell_type": "code",
   "execution_count": null,
   "metadata": {},
   "outputs": [],
   "source": [
    "causas_new = causas_l + causas_m + causas_h\n",
    "causas_new"
   ]
  },
  {
   "cell_type": "code",
   "execution_count": null,
   "metadata": {},
   "outputs": [],
   "source": [
    "plot_stacked(df, \"FIRE_YEAR\", causas_new)"
   ]
  },
  {
   "cell_type": "code",
   "execution_count": null,
   "metadata": {},
   "outputs": [],
   "source": [
    "plot_stacked(df, \"FIRE_YEAR\", causas_l[:])"
   ]
  },
  {
   "cell_type": "code",
   "execution_count": null,
   "metadata": {},
   "outputs": [],
   "source": [
    "plot_stacked(df, \"FIRE_YEAR\", causas_m)"
   ]
  },
  {
   "cell_type": "code",
   "execution_count": null,
   "metadata": {},
   "outputs": [],
   "source": [
    "plot_stacked(df,   \"FIRE_YEAR\", causas_h)"
   ]
  },
  {
   "cell_type": "code",
   "execution_count": null,
   "metadata": {},
   "outputs": [],
   "source": [
    "labels = [\"Monday\",\n",
    "          \"Tuesday\",\n",
    "          \"Wednesday\",\n",
    "          \"Thursday\",\n",
    "          \"Friday\",\n",
    "          \"Saturday\",\n",
    "          \"Sunday\"]\n",
    "\n",
    "d_dow = {dow: df[df[\"DISC_DOW\"] == dow] for dow in labels}\n",
    "\n",
    "n_causa = {\n",
    "    c: [\n",
    "        len(d_dow[day][d_dow[day][\"STAT_CAUSE_DESCR\"]==c]) for day in labels\n",
    "    ] for c in causas\n",
    "}\n",
    "\n",
    "def plot_dow_causa(title=None, xlabel=None, ylabel=None):\n",
    "    # grafico\n",
    "    fig, ax = plt.subplots()\n",
    "    \n",
    "    for c in causas:\n",
    "        ax.bar(labels, n_causa[c], label=c)\n",
    "        \n",
    "    title = (\"Número de incendios por día de semana\"\n",
    "             \" y por causa\") if title is None else title\n",
    "    xlabel = (\"Día de la semana\") if xlabel is None else xlabel\n",
    "    ylabel = (\"Número de incendios\") if ylabel is None else ylabel\n",
    "    \n",
    "    ax.set_ylabel(ylabel)\n",
    "    ax.set_xlabel(xlabel)\n",
    "    ax.set_title(title)\n",
    "    ax.legend(loc='center left', bbox_to_anchor=(1.1, 0.5))\n",
    "    \n",
    "    plt.xticks(rotation=45)\n",
    "    \n",
    "    plt.show()\n",
    "    \n",
    "    return None"
   ]
  },
  {
   "cell_type": "code",
   "execution_count": null,
   "metadata": {},
   "outputs": [],
   "source": [
    "plot_dow_causa()"
   ]
  },
  {
   "cell_type": "code",
   "execution_count": null,
   "metadata": {},
   "outputs": [],
   "source": [
    "plot_barh_causa(\"Debris Burning\")"
   ]
  },
  {
   "cell_type": "markdown",
   "metadata": {},
   "source": [
    "Observamos que el número de incendios por la quema de escombros son más frecuentes los sábados.\n",
    "\n",
    "Esto se puede explicar porque la gente suele acampar los fines de semana, provocando estos incendios."
   ]
  },
  {
   "cell_type": "code",
   "execution_count": null,
   "metadata": {},
   "outputs": [],
   "source": [
    "plot_barh_causa(\"Lightning\")"
   ]
  },
  {
   "cell_type": "markdown",
   "metadata": {},
   "source": [
    "Observamos que no hay diferencias significativas por la causa de relámpagos. Esto es lo intuitivo, pues es una causa natural y no humana."
   ]
  },
  {
   "cell_type": "code",
   "execution_count": null,
   "metadata": {},
   "outputs": [],
   "source": [
    "plot_barh_causa(\"Miscellaneous\")"
   ]
  },
  {
   "cell_type": "markdown",
   "metadata": {},
   "source": [
    "Observamos que ocurren más incendios los sábados, domingos y lunes de forma miscelánea. Esto se puede explicar de que las personas aprovehan los fines de semanas largos para ir a acampar."
   ]
  },
  {
   "cell_type": "code",
   "execution_count": null,
   "metadata": {},
   "outputs": [],
   "source": [
    "plot_barh_causa(\"Arson\")"
   ]
  },
  {
   "cell_type": "markdown",
   "metadata": {},
   "source": [
    "Obtenemos una tendencia similar a la causa miscélanea."
   ]
  },
  {
   "cell_type": "markdown",
   "metadata": {},
   "source": [
    "### Gráfico de número de incendios con respecto a la hora"
   ]
  },
  {
   "cell_type": "code",
   "execution_count": null,
   "metadata": {},
   "outputs": [],
   "source": [
    "def hour_total(time):\n",
    "    return time.hour + time.minute / 60 + time.second / 3600"
   ]
  },
  {
   "cell_type": "code",
   "execution_count": null,
   "metadata": {},
   "outputs": [],
   "source": [
    "disc_time = df[\"DISC_DATE_TIME\"].dt.time.map(hour_total)\n",
    "# .value_counts(sort=False)\n",
    "sns.distplot(disc_time, bins=100)"
   ]
  },
  {
   "cell_type": "code",
   "execution_count": null,
   "metadata": {
    "code_folding": []
   },
   "outputs": [],
   "source": [
    "df[\"DISC_TIME\"].value_counts(sort=False).plot(\n",
    "    kind=\"bar\",\n",
    "    figsize=my_figsize\n",
    ")\n",
    "\n",
    "plt.xticks(rotation=0)\n",
    "plt.show()"
   ]
  },
  {
   "cell_type": "markdown",
   "metadata": {},
   "source": [
    "Observamos que se forma una especie de campana, concentrada a las 14."
   ]
  },
  {
   "cell_type": "markdown",
   "metadata": {},
   "source": [
    "### Distribución quen respecto al año fijada una causa"
   ]
  },
  {
   "cell_type": "code",
   "execution_count": null,
   "metadata": {},
   "outputs": [],
   "source": [
    "def plot_year_causa(causa):\n",
    "    \n",
    "    df[\"FIRE_YEAR\"].value_counts(sort=False).plot(\n",
    "    kind=\"bar\",\n",
    "    figsize=my_figsize\n",
    ")"
   ]
  },
  {
   "cell_type": "markdown",
   "metadata": {},
   "source": [
    "Observamos que no son uniformes, con lo que es importante fijarse de la fecha."
   ]
  },
  {
   "cell_type": "markdown",
   "metadata": {},
   "source": [
    "### Matriz de correlaciones"
   ]
  },
  {
   "cell_type": "code",
   "execution_count": null,
   "metadata": {},
   "outputs": [],
   "source": [
    "df_copy = df.copy()\n",
    "\n",
    "le = preprocessing.LabelEncoder()\n",
    "for col in columnas_cat:\n",
    "    df_copy[col] = le.fit_transform(df_copy[col])\n",
    "df_copy.head()"
   ]
  },
  {
   "cell_type": "code",
   "execution_count": null,
   "metadata": {},
   "outputs": [],
   "source": [
    "from scipy import stats\n",
    "\n",
    "cor_col = columnas_cat\n",
    "N = len(cor_col)\n",
    "mat_cor = np.zeros((N, N))\n",
    "\n",
    "for i, cat_i in enumerate(cor_col):\n",
    "    for j, cat_j in enumerate(cor_col):\n",
    "        rho, _ = stats.spearmanr(df_copy[cat_i], df_copy[cat_j])\n",
    "        mat_cor[i, j] = rho\n",
    "\n",
    "mat_cor"
   ]
  },
  {
   "cell_type": "code",
   "execution_count": null,
   "metadata": {},
   "outputs": [],
   "source": [
    "a = pd.DataFrame(mat_cor)\n",
    "a.index = columnas_cat\n",
    "a.columns = columnas_cat\n",
    "a"
   ]
  },
  {
   "cell_type": "code",
   "execution_count": null,
   "metadata": {},
   "outputs": [],
   "source": [
    "# corr_matrix = df.corr()\n",
    "\n",
    "fig, ax = plt.subplots(figsize=(10,7))\n",
    "sns.heatmap(a, annot=True,\n",
    "            vmin=-1, vmax=1, center=0,\n",
    "            cmap=\"bwr\", linewidths=1, ax=ax\n",
    "           )\n",
    "\n",
    "plt.xticks(rotation=80)\n",
    "plt.show()"
   ]
  },
  {
   "cell_type": "markdown",
   "metadata": {},
   "source": [
    "##### TODO\n",
    "Mejorar esto. No se puede hacer matriz de correlaciones con datos categoricos."
   ]
  },
  {
   "cell_type": "markdown",
   "metadata": {},
   "source": [
    "Realizamos una copia del dataframe y rotulamos las variables categóricas."
   ]
  },
  {
   "cell_type": "code",
   "execution_count": null,
   "metadata": {},
   "outputs": [],
   "source": [
    "df_copy.head()"
   ]
  },
  {
   "cell_type": "code",
   "execution_count": null,
   "metadata": {},
   "outputs": [],
   "source": [
    "corr_matrix = df.corr()\n",
    "\n",
    "fig, ax = plt.subplots(figsize=(10,7))\n",
    "sns.heatmap(corr_matrix, annot=False,\n",
    "            vmin=-1, vmax=1, center=0,\n",
    "            cmap=\"bwr\", linewidths=1, ax=ax\n",
    "           )\n",
    "\n",
    "plt.xticks(rotation=80)\n",
    "plt.show()"
   ]
  },
  {
   "cell_type": "markdown",
   "metadata": {},
   "source": [
    "Observamos que el el año del incendio tiene correlación con la causa del incendio y el estado. Curiosamente esta variable tiene correlación con la latitud. Puede ser que tenga esta correlación por su correlación con el estado.\n",
    "\n",
    "La causa del incendio tiene correlación con la latitud y con el estado. Esto se puede deber a que la latitud tiene una alta correlación con el estado.\n",
    "\n",
    "Observamos que el tamaño del incendio tiene correlación con el tiempo de contención."
   ]
  },
  {
   "cell_type": "markdown",
   "metadata": {},
   "source": []
  },
  {
   "cell_type": "code",
   "execution_count": null,
   "metadata": {},
   "outputs": [],
   "source": []
  },
  {
   "cell_type": "code",
   "execution_count": null,
   "metadata": {},
   "outputs": [],
   "source": [
    "causas"
   ]
  },
  {
   "cell_type": "code",
   "execution_count": null,
   "metadata": {},
   "outputs": [],
   "source": []
  },
  {
   "cell_type": "code",
   "execution_count": null,
   "metadata": {},
   "outputs": [],
   "source": []
  },
  {
   "cell_type": "code",
   "execution_count": null,
   "metadata": {},
   "outputs": [],
   "source": []
  },
  {
   "cell_type": "code",
   "execution_count": null,
   "metadata": {},
   "outputs": [],
   "source": [
    "d = {\"a\":1, \"b\":2, \"c\":3}\n",
    "for a in d:\n",
    "    print(a)\n"
   ]
  },
  {
   "cell_type": "code",
   "execution_count": null,
   "metadata": {},
   "outputs": [],
   "source": []
  },
  {
   "cell_type": "code",
   "execution_count": null,
   "metadata": {},
   "outputs": [],
   "source": []
  }
 ],
 "metadata": {
  "kernelspec": {
   "display_name": "Python 3",
   "language": "python",
   "name": "python3"
  },
  "language_info": {
   "codemirror_mode": {
    "name": "ipython",
    "version": 3
   },
   "file_extension": ".py",
   "mimetype": "text/x-python",
   "name": "python",
   "nbconvert_exporter": "python",
   "pygments_lexer": "ipython3",
   "version": "3.7.3"
  },
  "toc": {
   "base_numbering": 1,
   "nav_menu": {},
   "number_sections": true,
   "sideBar": true,
   "skip_h1_title": false,
   "title_cell": "Table of Contents",
   "title_sidebar": "Contents",
   "toc_cell": false,
   "toc_position": {
    "height": "calc(100% - 180px)",
    "left": "10px",
    "top": "150px",
    "width": "228.667px"
   },
   "toc_section_display": true,
   "toc_window_display": true
  },
  "varInspector": {
   "cols": {
    "lenName": 16,
    "lenType": 16,
    "lenVar": 40
   },
   "kernels_config": {
    "python": {
     "delete_cmd_postfix": "",
     "delete_cmd_prefix": "del ",
     "library": "var_list.py",
     "varRefreshCmd": "print(var_dic_list())"
    },
    "r": {
     "delete_cmd_postfix": ") ",
     "delete_cmd_prefix": "rm(",
     "library": "var_list.r",
     "varRefreshCmd": "cat(var_dic_list()) "
    }
   },
   "oldHeight": 216.333666,
   "position": {
    "height": "237.667px",
    "left": "824px",
    "right": "20px",
    "top": "120px",
    "width": "350px"
   },
   "types_to_exclude": [
    "module",
    "function",
    "builtin_function_or_method",
    "instance",
    "_Feature"
   ],
   "varInspector_section_display": "block",
   "window_display": false
  }
 },
 "nbformat": 4,
 "nbformat_minor": 4
}
